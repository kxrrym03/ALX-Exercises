{
 "cells": [
  {
   "cell_type": "code",
   "execution_count": 1,
   "id": "40c68dc6-dcd5-4f48-9314-1524030442e5",
   "metadata": {},
   "outputs": [],
   "source": [
    "import pandas as pd\n",
    "import numpy as np"
   ]
  },
  {
   "cell_type": "code",
   "execution_count": 2,
   "id": "c9311cd3-d4eb-4501-b130-a1f87f69c74c",
   "metadata": {},
   "outputs": [
    {
     "name": "stdout",
     "output_type": "stream",
     "text": [
      "      Crop  Yield_per_Acre Country\n",
      "0    Wheat             3.0     USA\n",
      "1     Corn             4.5   China\n",
      "2     Rice             5.0   India\n",
      "3  Soybean             2.8  Brazil\n"
     ]
    }
   ],
   "source": [
    "# Creating a dictionary to hold agriculture data\n",
    "agri_data = {\n",
    "    'Crop': ['Wheat', 'Corn', 'Rice', 'Soybean'],\n",
    "    'Yield_per_Acre': [3, 4.5, 5, 2.8],\n",
    "    'Country': ['USA', 'China', 'India', 'Brazil']\n",
    "}\n",
    "\n",
    "# Creating a DataFrame from the agriculture data dictionary\n",
    "agri_df = pd.DataFrame(agri_data)\n",
    "\n",
    "# Printing the created DataFrame\n",
    "print(agri_df)"
   ]
  },
  {
   "cell_type": "code",
   "execution_count": 3,
   "id": "eb76748a-e445-431e-9090-63435c3fa27b",
   "metadata": {},
   "outputs": [
    {
     "data": {
      "text/html": [
       "<div>\n",
       "<style scoped>\n",
       "    .dataframe tbody tr th:only-of-type {\n",
       "        vertical-align: middle;\n",
       "    }\n",
       "\n",
       "    .dataframe tbody tr th {\n",
       "        vertical-align: top;\n",
       "    }\n",
       "\n",
       "    .dataframe thead th {\n",
       "        text-align: right;\n",
       "    }\n",
       "</style>\n",
       "<table border=\"1\" class=\"dataframe\">\n",
       "  <thead>\n",
       "    <tr style=\"text-align: right;\">\n",
       "      <th></th>\n",
       "      <th>Crop</th>\n",
       "      <th>Yield_per_Acre</th>\n",
       "      <th>Country</th>\n",
       "    </tr>\n",
       "  </thead>\n",
       "  <tbody>\n",
       "    <tr>\n",
       "      <th>1</th>\n",
       "      <td>Corn</td>\n",
       "      <td>4.5</td>\n",
       "      <td>China</td>\n",
       "    </tr>\n",
       "    <tr>\n",
       "      <th>2</th>\n",
       "      <td>Rice</td>\n",
       "      <td>5.0</td>\n",
       "      <td>India</td>\n",
       "    </tr>\n",
       "  </tbody>\n",
       "</table>\n",
       "</div>"
      ],
      "text/plain": [
       "   Crop  Yield_per_Acre Country\n",
       "1  Corn             4.5   China\n",
       "2  Rice             5.0   India"
      ]
     },
     "execution_count": 3,
     "metadata": {},
     "output_type": "execute_result"
    }
   ],
   "source": [
    "agri_df.iloc[1:3]"
   ]
  },
  {
   "cell_type": "code",
   "execution_count": 4,
   "id": "9ff6a37c-d8f6-4fbd-8d30-e741e0f5c9f6",
   "metadata": {},
   "outputs": [
    {
     "name": "stdout",
     "output_type": "stream",
     "text": [
      "       Max_Height_m  Growth_Rate_cm_per_year\n",
      "Maple            30                       25\n",
      "Pine             60                       30\n",
      "Birch            25                       20\n"
     ]
    }
   ],
   "source": [
    "# Creating a NumPy array to represent data for different tree species\n",
    "tree_array = np.array([[30, 25], [60, 30], [25, 20]])\n",
    "\n",
    "# Defining the column names for the DataFrame\n",
    "columns = ['Max_Height_m', 'Growth_Rate_cm_per_year']\n",
    "\n",
    "# Defining the index for the DataFrame which represents the names of the tree species\n",
    "index = ['Maple', 'Pine', 'Birch']\n",
    "\n",
    "# Creating a DataFrame from the NumPy array above\n",
    "tree_df = pd.DataFrame(data=tree_array, index=index, columns=columns)\n",
    "\n",
    "# Printing the created DataFrame\n",
    "print(tree_df)"
   ]
  },
  {
   "cell_type": "code",
   "execution_count": 5,
   "id": "0c0d30ec-bcf0-4ec9-8ac3-d842a5f1dc78",
   "metadata": {},
   "outputs": [
    {
     "data": {
      "text/plain": [
       "Max_Height_m               60\n",
       "Growth_Rate_cm_per_year    30\n",
       "Name: Pine, dtype: int32"
      ]
     },
     "execution_count": 5,
     "metadata": {},
     "output_type": "execute_result"
    }
   ],
   "source": [
    "tree_df.loc['Pine'][['Max_Height_m', 'Growth_Rate_cm_per_year']]"
   ]
  },
  {
   "cell_type": "code",
   "execution_count": 6,
   "id": "1c052769-084f-4b54-91a7-92b964618faf",
   "metadata": {},
   "outputs": [
    {
     "data": {
      "text/html": [
       "<div>\n",
       "<style scoped>\n",
       "    .dataframe tbody tr th:only-of-type {\n",
       "        vertical-align: middle;\n",
       "    }\n",
       "\n",
       "    .dataframe tbody tr th {\n",
       "        vertical-align: top;\n",
       "    }\n",
       "\n",
       "    .dataframe thead th {\n",
       "        text-align: right;\n",
       "    }\n",
       "</style>\n",
       "<table border=\"1\" class=\"dataframe\">\n",
       "  <thead>\n",
       "    <tr style=\"text-align: right;\">\n",
       "      <th></th>\n",
       "      <th>Species</th>\n",
       "      <th>Average Lifespan (Years)</th>\n",
       "      <th>Habitat</th>\n",
       "      <th>Conservation Status</th>\n",
       "    </tr>\n",
       "  </thead>\n",
       "  <tbody>\n",
       "    <tr>\n",
       "      <th>0</th>\n",
       "      <td>African Elephant</td>\n",
       "      <td>60</td>\n",
       "      <td>Grasslands</td>\n",
       "      <td>Vulnerable</td>\n",
       "    </tr>\n",
       "    <tr>\n",
       "      <th>1</th>\n",
       "      <td>Bengal Tiger</td>\n",
       "      <td>15</td>\n",
       "      <td>Forests</td>\n",
       "      <td>Endangered</td>\n",
       "    </tr>\n",
       "    <tr>\n",
       "      <th>2</th>\n",
       "      <td>Blue Whale</td>\n",
       "      <td>80</td>\n",
       "      <td>Ocean</td>\n",
       "      <td>Endangered</td>\n",
       "    </tr>\n",
       "    <tr>\n",
       "      <th>3</th>\n",
       "      <td>Giant Panda</td>\n",
       "      <td>20</td>\n",
       "      <td>Temperate Forest</td>\n",
       "      <td>Vulnerable</td>\n",
       "    </tr>\n",
       "    <tr>\n",
       "      <th>4</th>\n",
       "      <td>Komodo Dragon</td>\n",
       "      <td>30</td>\n",
       "      <td>Islands</td>\n",
       "      <td>Vulnerable</td>\n",
       "    </tr>\n",
       "  </tbody>\n",
       "</table>\n",
       "</div>"
      ],
      "text/plain": [
       "            Species  Average Lifespan (Years)           Habitat  \\\n",
       "0  African Elephant                        60        Grasslands   \n",
       "1      Bengal Tiger                        15           Forests   \n",
       "2        Blue Whale                        80             Ocean   \n",
       "3       Giant Panda                        20  Temperate Forest   \n",
       "4     Komodo Dragon                        30           Islands   \n",
       "\n",
       "  Conservation Status  \n",
       "0          Vulnerable  \n",
       "1          Endangered  \n",
       "2          Endangered  \n",
       "3          Vulnerable  \n",
       "4          Vulnerable  "
      ]
     },
     "execution_count": 6,
     "metadata": {},
     "output_type": "execute_result"
    }
   ],
   "source": [
    "# Loading data from a CSV file named 'Animals.csv' into a DataFrame\n",
    "animals_df = pd.read_csv('https://raw.githubusercontent.com/Explore-AI/Public-Data/master/Data/Python/Animals.csv')\n",
    "\n",
    "# Displaying the first 5 rows of the DataFrame\n",
    "animals_df.head()"
   ]
  },
  {
   "cell_type": "code",
   "execution_count": 7,
   "id": "ee48b5fe-7834-4870-92c5-c40a169ef50b",
   "metadata": {},
   "outputs": [
    {
     "data": {
      "text/html": [
       "<div>\n",
       "<style scoped>\n",
       "    .dataframe tbody tr th:only-of-type {\n",
       "        vertical-align: middle;\n",
       "    }\n",
       "\n",
       "    .dataframe tbody tr th {\n",
       "        vertical-align: top;\n",
       "    }\n",
       "\n",
       "    .dataframe thead th {\n",
       "        text-align: right;\n",
       "    }\n",
       "</style>\n",
       "<table border=\"1\" class=\"dataframe\">\n",
       "  <thead>\n",
       "    <tr style=\"text-align: right;\">\n",
       "      <th></th>\n",
       "      <th>Species</th>\n",
       "      <th>Average Lifespan (Years)</th>\n",
       "      <th>Habitat</th>\n",
       "      <th>Conservation Status</th>\n",
       "    </tr>\n",
       "  </thead>\n",
       "  <tbody>\n",
       "    <tr>\n",
       "      <th>9</th>\n",
       "      <td>Orangutan</td>\n",
       "      <td>35</td>\n",
       "      <td>Rainforests</td>\n",
       "      <td>Critically Endangered</td>\n",
       "    </tr>\n",
       "  </tbody>\n",
       "</table>\n",
       "</div>"
      ],
      "text/plain": [
       "     Species  Average Lifespan (Years)      Habitat    Conservation Status\n",
       "9  Orangutan                        35  Rainforests  Critically Endangered"
      ]
     },
     "execution_count": 7,
     "metadata": {},
     "output_type": "execute_result"
    }
   ],
   "source": [
    "# Create a new DataFrame based on a condition\n",
    "Critically_endangered = animals_df[animals_df['Conservation Status'] == 'Critically Endangered']\n",
    "\n",
    "# Displaying the newly created DataFrame\n",
    "Critically_endangered"
   ]
  },
  {
   "cell_type": "code",
   "execution_count": null,
   "id": "84ae3416-a2a1-4c33-90cb-8b288e0d8249",
   "metadata": {},
   "outputs": [],
   "source": []
  }
 ],
 "metadata": {
  "kernelspec": {
   "display_name": "Python 3 (ipykernel)",
   "language": "python",
   "name": "python3"
  },
  "language_info": {
   "codemirror_mode": {
    "name": "ipython",
    "version": 3
   },
   "file_extension": ".py",
   "mimetype": "text/x-python",
   "name": "python",
   "nbconvert_exporter": "python",
   "pygments_lexer": "ipython3",
   "version": "3.12.7"
  }
 },
 "nbformat": 4,
 "nbformat_minor": 5
}
